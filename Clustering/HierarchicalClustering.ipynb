{
  "nbformat": 4,
  "nbformat_minor": 0,
  "metadata": {
    "colab": {
      "name": "HierarchicalClustering.ipynb",
      "provenance": [],
      "authorship_tag": "ABX9TyMBdODk6YKkIbkqaiPchatN",
      "include_colab_link": true
    },
    "kernelspec": {
      "name": "python3",
      "display_name": "Python 3"
    }
  },
  "cells": [
    {
      "cell_type": "markdown",
      "metadata": {
        "id": "view-in-github",
        "colab_type": "text"
      },
      "source": [
        "<a href=\"https://colab.research.google.com/github/besherh/Machine-Learning-Course/blob/master/Clustering/HierarchicalClustering.ipynb\" target=\"_parent\"><img src=\"https://colab.research.google.com/assets/colab-badge.svg\" alt=\"Open In Colab\"/></a>"
      ]
    },
    {
      "cell_type": "code",
      "metadata": {
        "id": "lOmMMZKWRs6v"
      },
      "source": [
        "#importing the libraries\n",
        "import pandas as pd\n",
        "import matplotlib.pyplot as plt\n"
      ],
      "execution_count": 31,
      "outputs": []
    },
    {
      "cell_type": "code",
      "metadata": {
        "id": "g2A0yeXdRra7"
      },
      "source": [
        "#load the dataset \n",
        "#download the dataset from our Github page\n",
        "#https://github.com/besherh/Machine-Learning-Course/blob/master/1-Introduction/data_sets/iris.csv\n",
        "\n",
        "iris = pd.read_csv(\"https://raw.githubusercontent.com/besherh/Machine-Learning-Course/master/1-Introduction/data_sets/Iris.csv\")"
      ],
      "execution_count": 3,
      "outputs": []
    },
    {
      "cell_type": "code",
      "metadata": {
        "colab": {
          "base_uri": "https://localhost:8080/",
          "height": 203
        },
        "id": "I9E6qJF6R3S7",
        "outputId": "1a504ee8-578e-487e-eb9c-844b0d8b3467"
      },
      "source": [
        "iris.head()"
      ],
      "execution_count": 4,
      "outputs": [
        {
          "output_type": "execute_result",
          "data": {
            "text/html": [
              "<div>\n",
              "<style scoped>\n",
              "    .dataframe tbody tr th:only-of-type {\n",
              "        vertical-align: middle;\n",
              "    }\n",
              "\n",
              "    .dataframe tbody tr th {\n",
              "        vertical-align: top;\n",
              "    }\n",
              "\n",
              "    .dataframe thead th {\n",
              "        text-align: right;\n",
              "    }\n",
              "</style>\n",
              "<table border=\"1\" class=\"dataframe\">\n",
              "  <thead>\n",
              "    <tr style=\"text-align: right;\">\n",
              "      <th></th>\n",
              "      <th>Id</th>\n",
              "      <th>SepalLengthCm</th>\n",
              "      <th>SepalWidthCm</th>\n",
              "      <th>PetalLengthCm</th>\n",
              "      <th>PetalWidthCm</th>\n",
              "      <th>Species</th>\n",
              "    </tr>\n",
              "  </thead>\n",
              "  <tbody>\n",
              "    <tr>\n",
              "      <th>0</th>\n",
              "      <td>1</td>\n",
              "      <td>5.1</td>\n",
              "      <td>3.5</td>\n",
              "      <td>1.4</td>\n",
              "      <td>0.2</td>\n",
              "      <td>Iris-setosa</td>\n",
              "    </tr>\n",
              "    <tr>\n",
              "      <th>1</th>\n",
              "      <td>2</td>\n",
              "      <td>4.9</td>\n",
              "      <td>3.0</td>\n",
              "      <td>1.4</td>\n",
              "      <td>0.2</td>\n",
              "      <td>Iris-setosa</td>\n",
              "    </tr>\n",
              "    <tr>\n",
              "      <th>2</th>\n",
              "      <td>3</td>\n",
              "      <td>4.7</td>\n",
              "      <td>3.2</td>\n",
              "      <td>1.3</td>\n",
              "      <td>0.2</td>\n",
              "      <td>Iris-setosa</td>\n",
              "    </tr>\n",
              "    <tr>\n",
              "      <th>3</th>\n",
              "      <td>4</td>\n",
              "      <td>4.6</td>\n",
              "      <td>3.1</td>\n",
              "      <td>1.5</td>\n",
              "      <td>0.2</td>\n",
              "      <td>Iris-setosa</td>\n",
              "    </tr>\n",
              "    <tr>\n",
              "      <th>4</th>\n",
              "      <td>5</td>\n",
              "      <td>5.0</td>\n",
              "      <td>3.6</td>\n",
              "      <td>1.4</td>\n",
              "      <td>0.2</td>\n",
              "      <td>Iris-setosa</td>\n",
              "    </tr>\n",
              "  </tbody>\n",
              "</table>\n",
              "</div>"
            ],
            "text/plain": [
              "   Id  SepalLengthCm  SepalWidthCm  PetalLengthCm  PetalWidthCm      Species\n",
              "0   1            5.1           3.5            1.4           0.2  Iris-setosa\n",
              "1   2            4.9           3.0            1.4           0.2  Iris-setosa\n",
              "2   3            4.7           3.2            1.3           0.2  Iris-setosa\n",
              "3   4            4.6           3.1            1.5           0.2  Iris-setosa\n",
              "4   5            5.0           3.6            1.4           0.2  Iris-setosa"
            ]
          },
          "metadata": {
            "tags": []
          },
          "execution_count": 4
        }
      ]
    },
    {
      "cell_type": "markdown",
      "metadata": {
        "id": "I5Z2lQoBSCwb"
      },
      "source": [
        "Iris data set includes 150 data points. We will only use the first 50 data points so that the dendrogram seems more clear.\n"
      ]
    },
    {
      "cell_type": "code",
      "metadata": {
        "colab": {
          "base_uri": "https://localhost:8080/"
        },
        "id": "h7SPUz9VSt8M",
        "outputId": "f423a59e-0b87-491b-e3a9-5d485d860542"
      },
      "source": [
        "iris = iris.head(50)\n",
        "iris.shape"
      ],
      "execution_count": 15,
      "outputs": [
        {
          "output_type": "execute_result",
          "data": {
            "text/plain": [
              "(50, 6)"
            ]
          },
          "metadata": {
            "tags": []
          },
          "execution_count": 15
        }
      ]
    },
    {
      "cell_type": "code",
      "metadata": {
        "id": "svn-2ERqR5h3"
      },
      "source": [
        "#building the input for the model ( 4 attributes :SepalLengthCm,SepalWidthCm,PetalLengthCm,PetalWidthCm )\n",
        "x = iris. iloc[:, [1, 2, 3, 4]].values\n"
      ],
      "execution_count": 22,
      "outputs": []
    },
    {
      "cell_type": "markdown",
      "metadata": {
        "id": "6Y2VgnlRTBHs"
      },
      "source": [
        "Then we import AgglomerativeClustering class and build a model.\n"
      ]
    },
    {
      "cell_type": "code",
      "metadata": {
        "id": "1UQvHjKRTDMD"
      },
      "source": [
        "from sklearn.cluster import AgglomerativeClustering\n",
        "#refer to \n",
        "model = AgglomerativeClustering(distance_threshold=0, n_clusters=None)\n"
      ],
      "execution_count": 19,
      "outputs": []
    },
    {
      "cell_type": "markdown",
      "metadata": {
        "id": "cQS7ozLpTRt8"
      },
      "source": [
        "Keep in mind that if distance_threshold parameter is not None, n_cluster parameter must be None. I do not set any condition just to visualize a complete tree.\n",
        "Next step is to fit model to the data:\n"
      ]
    },
    {
      "cell_type": "code",
      "metadata": {
        "id": "f3bX6RYfTnxk"
      },
      "source": [
        "model = model.fit(x)\n"
      ],
      "execution_count": 23,
      "outputs": []
    },
    {
      "cell_type": "markdown",
      "metadata": {
        "id": "pfgfftzpTr20"
      },
      "source": [
        "Before drawing a dendrogram, we can check the details of our model using available methods:\n"
      ]
    },
    {
      "cell_type": "code",
      "metadata": {
        "colab": {
          "base_uri": "https://localhost:8080/"
        },
        "id": "P8kLW5EUTt2o",
        "outputId": "1d46a6a2-7774-4d30-b5b4-6ce1c30ddbe2"
      },
      "source": [
        "# Number of clusters\n",
        "model.n_clusters_\n"
      ],
      "execution_count": 24,
      "outputs": [
        {
          "output_type": "execute_result",
          "data": {
            "text/plain": [
              "50"
            ]
          },
          "metadata": {
            "tags": []
          },
          "execution_count": 24
        }
      ]
    },
    {
      "cell_type": "code",
      "metadata": {
        "colab": {
          "base_uri": "https://localhost:8080/"
        },
        "id": "sjjRXtcRTvGh",
        "outputId": "39155f75-b4a1-4f25-da66-f5f68ecb8a28"
      },
      "source": [
        "# Distances between clusters\n",
        "distances = model.distances_\n",
        "distances.min()\n"
      ],
      "execution_count": 26,
      "outputs": [
        {
          "output_type": "execute_result",
          "data": {
            "text/plain": [
              "0.0"
            ]
          },
          "metadata": {
            "tags": []
          },
          "execution_count": 26
        }
      ]
    },
    {
      "cell_type": "code",
      "metadata": {
        "colab": {
          "base_uri": "https://localhost:8080/"
        },
        "id": "8AOb-SdQT6Co",
        "outputId": "30effaa9-8d6f-4d3b-9ebf-d6b714add40b"
      },
      "source": [
        "distances.max()\n"
      ],
      "execution_count": 27,
      "outputs": [
        {
          "output_type": "execute_result",
          "data": {
            "text/plain": [
              "3.875843603186748"
            ]
          },
          "metadata": {
            "tags": []
          },
          "execution_count": 27
        }
      ]
    },
    {
      "cell_type": "markdown",
      "metadata": {
        "id": "N9oyLSR7T8pS"
      },
      "source": [
        "Scikit learn does not provide dendrograms so we will use the dendrogram of SciPy package.\n"
      ]
    },
    {
      "cell_type": "code",
      "metadata": {
        "id": "JNDkAYFYT-zM"
      },
      "source": [
        "from scipy.cluster.hierarchy import dendrogram\n",
        "from scipy.cluster import hierarchy\n"
      ],
      "execution_count": 28,
      "outputs": []
    },
    {
      "cell_type": "markdown",
      "metadata": {
        "id": "mA2HFXt_UATI"
      },
      "source": [
        "We first create a linkage matrix:\n"
      ]
    },
    {
      "cell_type": "code",
      "metadata": {
        "id": "Pg-VMCfAUCLA"
      },
      "source": [
        "Z = hierarchy.linkage(model.children_, 'ward')\n"
      ],
      "execution_count": 29,
      "outputs": []
    },
    {
      "cell_type": "markdown",
      "metadata": {
        "id": "wwqLQuM2UDvU"
      },
      "source": [
        "We use the children from the model and a linkage criterion which I choose to be ‘ward’ linkage.\n",
        "\n",
        "\n",
        "\n"
      ]
    },
    {
      "cell_type": "code",
      "metadata": {
        "colab": {
          "base_uri": "https://localhost:8080/",
          "height": 466
        },
        "id": "FQ1-TWDSUE_o",
        "outputId": "441fd625-6f30-4def-fd7d-ce5577df7e36"
      },
      "source": [
        "plt.figure(figsize=(20,10))\n",
        "dn = hierarchy.dendrogram(Z)\n"
      ],
      "execution_count": 32,
      "outputs": [
        {
          "output_type": "display_data",
          "data": {
            "image/png": "[encoded data removed]",
            "text/plain": [
              "<Figure size 1440x720 with 1 Axes>"
            ]
          },
          "metadata": {
            "tags": [],
            "needs_background": "light"
          }
        }
      ]
    },
    {
      "cell_type": "markdown",
      "metadata": {
        "id": "bs6bVfFiUo_6"
      },
      "source": [
        "The labels of leafs are the indices of data points.\n",
        "We can control the number of cluster by adjusting distance_thresold or n_cluster parameters. Let’s check the calculated distances between clusters:\n",
        "\n"
      ]
    },
    {
      "cell_type": "code",
      "metadata": {
        "colab": {
          "base_uri": "https://localhost:8080/"
        },
        "id": "jNpkHmJmUt-9",
        "outputId": "c29da9d8-d554-439f-8074-3596454c5d0a"
      },
      "source": [
        "model.distances_\n"
      ],
      "execution_count": 33,
      "outputs": [
        {
          "output_type": "execute_result",
          "data": {
            "text/plain": [
              "array([0.        , 0.        , 0.1       , 0.1       , 0.1       ,\n",
              "       0.14142136, 0.14142136, 0.14142136, 0.14142136, 0.14142136,\n",
              "       0.14142136, 0.17320508, 0.17320508, 0.17320508, 0.18257419,\n",
              "       0.2       , 0.21602469, 0.21602469, 0.24494897, 0.25819889,\n",
              "       0.28284271, 0.28982753, 0.29439203, 0.29439203, 0.31358146,\n",
              "       0.33166248, 0.33665016, 0.34641016, 0.34778209, 0.35182066,\n",
              "       0.36968455, 0.42229532, 0.43969687, 0.44521263, 0.46726153,\n",
              "       0.54772256, 0.59441848, 0.6244998 , 0.6363961 , 0.66269651,\n",
              "       0.75535128, 0.83740671, 0.85556999, 0.85780728, 1.10513951,\n",
              "       1.29839645, 1.39697997, 1.86837719, 3.8758436 ])"
            ]
          },
          "metadata": {
            "tags": []
          },
          "execution_count": 33
        }
      ]
    },
    {
      "cell_type": "markdown",
      "metadata": {
        "id": "Bg2-ZnNeUwPC"
      },
      "source": [
        "Distances are in ascending order. If we can set the distance_thresold as 0.8, number of clusters will be 9. There are 8 distances greated than 0.8 so, when combined, 9 clusters will be formed.\n"
      ]
    },
    {
      "cell_type": "code",
      "metadata": {
        "colab": {
          "base_uri": "https://localhost:8080/"
        },
        "id": "XGI2FgTzU4gl",
        "outputId": "ea976315-cfbf-4cf0-b1a1-c9d559da8993"
      },
      "source": [
        "model = AgglomerativeClustering(distance_threshold=0.8, n_clusters=None)\n",
        "model = model.fit(x)\n",
        "model.n_clusters_\n"
      ],
      "execution_count": 34,
      "outputs": [
        {
          "output_type": "execute_result",
          "data": {
            "text/plain": [
              "9"
            ]
          },
          "metadata": {
            "tags": []
          },
          "execution_count": 34
        }
      ]
    }
  ]
}