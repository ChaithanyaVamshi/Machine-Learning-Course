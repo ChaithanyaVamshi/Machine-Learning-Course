{
  "nbformat": 4,
  "nbformat_minor": 0,
  "metadata": {
    "colab": {
      "name": "pandas_practice.ipynb",
      "provenance": [],
      "authorship_tag": "ABX9TyNXFU3ItMbJNiGjfvex8QT/",
      "include_colab_link": true
    },
    "kernelspec": {
      "name": "python3",
      "display_name": "Python 3"
    }
  },
  "cells": [
    {
      "cell_type": "markdown",
      "metadata": {
        "id": "view-in-github",
        "colab_type": "text"
      },
      "source": [
        "<a href=\"https://colab.research.google.com/github/besherh/Machine-Learning-Course/blob/master/1-Introduction/pandas_practice.ipynb\" target=\"_parent\"><img src=\"https://colab.research.google.com/assets/colab-badge.svg\" alt=\"Open In Colab\"/></a>"
      ]
    },
    {
      "cell_type": "code",
      "metadata": {
        "id": "LO0NlTzeNv_6"
      },
      "source": [
        "import pandas as pd\n",
        "import numpy as np"
      ],
      "execution_count": null,
      "outputs": []
    },
    {
      "cell_type": "code",
      "metadata": {
        "id": "MRgZAubOOdlt",
        "outputId": "c70b99c8-2804-4a97-aa4a-f8ddce23669d",
        "colab": {
          "base_uri": "https://localhost:8080/",
          "height": 172
        }
      },
      "source": [
        "df = pd.DataFrame({\n",
        "   'col1': ['Item0', 'Item0', 'Item1', 'Item1'],\n",
        "   'col2': ['Gold', 'Bronze', 'Gold', 'Silver'],\n",
        "   'col3': [1, 2, np.nan, 4]\n",
        "})\n",
        "\n",
        "df"
      ],
      "execution_count": null,
      "outputs": [
        {
          "output_type": "execute_result",
          "data": {
            "text/html": [
              "<div>\n",
              "<style scoped>\n",
              "    .dataframe tbody tr th:only-of-type {\n",
              "        vertical-align: middle;\n",
              "    }\n",
              "\n",
              "    .dataframe tbody tr th {\n",
              "        vertical-align: top;\n",
              "    }\n",
              "\n",
              "    .dataframe thead th {\n",
              "        text-align: right;\n",
              "    }\n",
              "</style>\n",
              "<table border=\"1\" class=\"dataframe\">\n",
              "  <thead>\n",
              "    <tr style=\"text-align: right;\">\n",
              "      <th></th>\n",
              "      <th>col1</th>\n",
              "      <th>col2</th>\n",
              "      <th>col3</th>\n",
              "    </tr>\n",
              "  </thead>\n",
              "  <tbody>\n",
              "    <tr>\n",
              "      <th>0</th>\n",
              "      <td>Item0</td>\n",
              "      <td>Gold</td>\n",
              "      <td>1.0</td>\n",
              "    </tr>\n",
              "    <tr>\n",
              "      <th>1</th>\n",
              "      <td>Item0</td>\n",
              "      <td>Bronze</td>\n",
              "      <td>2.0</td>\n",
              "    </tr>\n",
              "    <tr>\n",
              "      <th>2</th>\n",
              "      <td>Item1</td>\n",
              "      <td>Gold</td>\n",
              "      <td>NaN</td>\n",
              "    </tr>\n",
              "    <tr>\n",
              "      <th>3</th>\n",
              "      <td>Item1</td>\n",
              "      <td>Silver</td>\n",
              "      <td>4.0</td>\n",
              "    </tr>\n",
              "  </tbody>\n",
              "</table>\n",
              "</div>"
            ],
            "text/plain": [
              "    col1    col2  col3\n",
              "0  Item0    Gold   1.0\n",
              "1  Item0  Bronze   2.0\n",
              "2  Item1    Gold   NaN\n",
              "3  Item1  Silver   4.0"
            ]
          },
          "metadata": {
            "tags": []
          },
          "execution_count": 2
        }
      ]
    },
    {
      "cell_type": "markdown",
      "metadata": {
        "id": "ssPZ6pixN0OQ"
      },
      "source": [
        "Previewing Data\n",
        "To preview the data and the metadata of a dataframe you can use the following functions:\n",
        "\n"
      ]
    },
    {
      "cell_type": "code",
      "metadata": {
        "id": "Yk1eudbUNnsx",
        "outputId": "bbf93125-4756-44c4-a290-0a52bb6f0971",
        "colab": {
          "base_uri": "https://localhost:8080/",
          "height": 172
        }
      },
      "source": [
        "# Displays the top 5 rows.\n",
        "df.head()"
      ],
      "execution_count": null,
      "outputs": [
        {
          "output_type": "execute_result",
          "data": {
            "text/html": [
              "<div>\n",
              "<style scoped>\n",
              "    .dataframe tbody tr th:only-of-type {\n",
              "        vertical-align: middle;\n",
              "    }\n",
              "\n",
              "    .dataframe tbody tr th {\n",
              "        vertical-align: top;\n",
              "    }\n",
              "\n",
              "    .dataframe thead th {\n",
              "        text-align: right;\n",
              "    }\n",
              "</style>\n",
              "<table border=\"1\" class=\"dataframe\">\n",
              "  <thead>\n",
              "    <tr style=\"text-align: right;\">\n",
              "      <th></th>\n",
              "      <th>col1</th>\n",
              "      <th>col2</th>\n",
              "      <th>col3</th>\n",
              "    </tr>\n",
              "  </thead>\n",
              "  <tbody>\n",
              "    <tr>\n",
              "      <th>0</th>\n",
              "      <td>Item0</td>\n",
              "      <td>Gold</td>\n",
              "      <td>1.0</td>\n",
              "    </tr>\n",
              "    <tr>\n",
              "      <th>1</th>\n",
              "      <td>Item0</td>\n",
              "      <td>Bronze</td>\n",
              "      <td>2.0</td>\n",
              "    </tr>\n",
              "    <tr>\n",
              "      <th>2</th>\n",
              "      <td>Item1</td>\n",
              "      <td>Gold</td>\n",
              "      <td>NaN</td>\n",
              "    </tr>\n",
              "    <tr>\n",
              "      <th>3</th>\n",
              "      <td>Item1</td>\n",
              "      <td>Silver</td>\n",
              "      <td>4.0</td>\n",
              "    </tr>\n",
              "  </tbody>\n",
              "</table>\n",
              "</div>"
            ],
            "text/plain": [
              "    col1    col2  col3\n",
              "0  Item0    Gold   1.0\n",
              "1  Item0  Bronze   2.0\n",
              "2  Item1    Gold   NaN\n",
              "3  Item1  Silver   4.0"
            ]
          },
          "metadata": {
            "tags": []
          },
          "execution_count": 3
        }
      ]
    },
    {
      "cell_type": "code",
      "metadata": {
        "id": "P0SRbmVFPNo2"
      },
      "source": [
        "# displays the last rows\n",
        "\n"
      ],
      "execution_count": null,
      "outputs": []
    },
    {
      "cell_type": "code",
      "metadata": {
        "id": "25REGv1GPRWA"
      },
      "source": [
        "# The number of columns\n",
        "\n"
      ],
      "execution_count": null,
      "outputs": []
    },
    {
      "cell_type": "markdown",
      "metadata": {
        "id": "metBTF-PPkVF"
      },
      "source": [
        "#Sorting\n",
        "\n",
        "sort values by col1, then col2 in ascending order\n"
      ]
    },
    {
      "cell_type": "code",
      "metadata": {
        "id": "rwmUqfUOPo3W"
      },
      "source": [
        "#sort values\n"
      ],
      "execution_count": null,
      "outputs": []
    },
    {
      "cell_type": "markdown",
      "metadata": {
        "id": "v80le55PQ5oC"
      },
      "source": [
        "# Selecting/Querying\n",
        "Individual columns can be selected with the [] operator or directly as attributes:\n",
        "# Selects only the column named 'col1';\n",
        "# Select two columns col1,col2\n",
        "\n"
      ]
    },
    {
      "cell_type": "code",
      "metadata": {
        "id": "svg688lTQ9NF"
      },
      "source": [
        "#select columns"
      ],
      "execution_count": null,
      "outputs": []
    },
    {
      "cell_type": "markdown",
      "metadata": {
        "id": "OXTgBfMwV-pb"
      },
      "source": [
        "You can also select by absolute coordinates/position in the frame. Indices are zero based:\n",
        "\n",
        "# Selects second row\n",
        "# Selects rows 1-to-3\n"
      ]
    },
    {
      "cell_type": "code",
      "metadata": {
        "id": "WuP7YuKIWCXo"
      },
      "source": [
        ""
      ],
      "execution_count": null,
      "outputs": []
    },
    {
      "cell_type": "markdown",
      "metadata": {
        "id": "5kvq1_YtWYI3"
      },
      "source": [
        "\n",
        "# Query by a single column value\n",
        "df[df.col3 > 0] \n",
        "\n",
        "# Query by a single column, if it is in a list of predefined values\n",
        "df[df['col2'].isin(['Gold', 'Silver'])] \n",
        "\n",
        "# A conjunction query using two columns\n",
        "df[(df['col3'] > 0) & (df['col2'] == 'Silver')] \n",
        "\n",
        "# A disjunction query using two columns\n",
        "df[(df['col3'] > 0) | (df['col2'] == 'Silver')]\n",
        "\n",
        "# A query checking the textual content of the cells\n",
        "df[df.col2.str.contains('ilver')]\n"
      ]
    },
    {
      "cell_type": "code",
      "metadata": {
        "id": "ghDUcggWWbTf"
      },
      "source": [
        "#use the code from above cell to see the results of each query"
      ],
      "execution_count": null,
      "outputs": []
    },
    {
      "cell_type": "markdown",
      "metadata": {
        "id": "MhXCyXzNY317"
      },
      "source": [
        "#Modifying Data Frames\n",
        "\n",
        "# Modifies the cell at 1,1, assign vaue 'Bronze again'\n",
        "\n",
        "\n",
        "# change the values in col3 to 'HelloPD'\n",
        "\n",
        "# Removes all rows with any missing values.\n",
        "\n"
      ]
    },
    {
      "cell_type": "code",
      "metadata": {
        "id": "SnbgFp8OZJRL"
      },
      "source": [
        "#your code here\n",
        "\n",
        "\n"
      ],
      "execution_count": null,
      "outputs": []
    },
    {
      "cell_type": "markdown",
      "metadata": {
        "id": "jNdTo3iMzefS"
      },
      "source": [
        "#Basic plotting\n"
      ]
    },
    {
      "cell_type": "code",
      "metadata": {
        "id": "J_eIodBfzhZW",
        "outputId": "bf452001-31cc-4e61-de21-c131eee08290",
        "colab": {
          "base_uri": "https://localhost:8080/",
          "height": 164
        }
      },
      "source": [
        "#run the following code to create a new data frame\n",
        "plot_df = pd.DataFrame({\n",
        "    'col1': [1, 3, 2, 4],\n",
        "    'col2': [3, 6, 5, 1],\n",
        "    'col3': [4, 7, 6, 2],\n",
        "})\n",
        "\n",
        "plot_df"
      ],
      "execution_count": null,
      "outputs": [
        {
          "output_type": "execute_result",
          "data": {
            "text/html": [
              "<div>\n",
              "<style scoped>\n",
              "    .dataframe tbody tr th:only-of-type {\n",
              "        vertical-align: middle;\n",
              "    }\n",
              "\n",
              "    .dataframe tbody tr th {\n",
              "        vertical-align: top;\n",
              "    }\n",
              "\n",
              "    .dataframe thead th {\n",
              "        text-align: right;\n",
              "    }\n",
              "</style>\n",
              "<table border=\"1\" class=\"dataframe\">\n",
              "  <thead>\n",
              "    <tr style=\"text-align: right;\">\n",
              "      <th></th>\n",
              "      <th>col1</th>\n",
              "      <th>col2</th>\n",
              "      <th>col3</th>\n",
              "    </tr>\n",
              "  </thead>\n",
              "  <tbody>\n",
              "    <tr>\n",
              "      <th>0</th>\n",
              "      <td>1</td>\n",
              "      <td>3</td>\n",
              "      <td>4</td>\n",
              "    </tr>\n",
              "    <tr>\n",
              "      <th>1</th>\n",
              "      <td>3</td>\n",
              "      <td>6</td>\n",
              "      <td>7</td>\n",
              "    </tr>\n",
              "    <tr>\n",
              "      <th>2</th>\n",
              "      <td>2</td>\n",
              "      <td>5</td>\n",
              "      <td>6</td>\n",
              "    </tr>\n",
              "    <tr>\n",
              "      <th>3</th>\n",
              "      <td>4</td>\n",
              "      <td>1</td>\n",
              "      <td>2</td>\n",
              "    </tr>\n",
              "  </tbody>\n",
              "</table>\n",
              "</div>"
            ],
            "text/plain": [
              "   col1  col2  col3\n",
              "0     1     3     4\n",
              "1     3     6     7\n",
              "2     2     5     6\n",
              "3     4     1     2"
            ]
          },
          "metadata": {
            "tags": []
          },
          "execution_count": 10
        }
      ]
    },
    {
      "cell_type": "code",
      "metadata": {
        "id": "HyO53SkN0x3F"
      },
      "source": [
        "#use plot function to plot plot_df"
      ],
      "execution_count": null,
      "outputs": []
    },
    {
      "cell_type": "code",
      "metadata": {
        "id": "F3A1sZH606i2"
      },
      "source": [
        "#plot bar chart for plot_df\n",
        "# Use kind='hbar' for horizontal bars, and stacked=True to stack the groups\n",
        "\n"
      ],
      "execution_count": null,
      "outputs": []
    }
  ]
}