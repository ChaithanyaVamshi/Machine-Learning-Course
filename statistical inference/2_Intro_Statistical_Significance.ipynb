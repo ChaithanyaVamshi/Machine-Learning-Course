{
  "nbformat": 4,
  "nbformat_minor": 0,
  "metadata": {
    "colab": {
      "name": "2.Intro_Statistical Significance.ipynb",
      "provenance": [],
      "authorship_tag": "ABX9TyMiK7c8f/jP5IahcKp8NgXy",
      "include_colab_link": true
    },
    "kernelspec": {
      "name": "python3",
      "display_name": "Python 3"
    }
  },
  "cells": [
    {
      "cell_type": "markdown",
      "metadata": {
        "id": "view-in-github",
        "colab_type": "text"
      },
      "source": [
        "<a href=\"https://colab.research.google.com/github/besherh/Machine-Learning-Course/blob/master/statistical%20inference/2_Intro_Statistical_Significance.ipynb\" target=\"_parent\"><img src=\"https://colab.research.google.com/assets/colab-badge.svg\" alt=\"Open In Colab\"/></a>"
      ]
    },
    {
      "cell_type": "markdown",
      "metadata": {
        "id": "sArH8P8qQuGD"
      },
      "source": [
        "#What is Statistical Significance Test?\n",
        "In statistics, statistical significance means that the result that was produced has a reason behind it, it was not produced randomly, or by chance.\n",
        "\n",
        "SciPy provides us with a module called scipy.stats, which has functions for performing statistical significance tests.\n",
        "\n",
        "Here are some techniques and keywords that are important when performing such tests:\n",
        "\n",
        "\n"
      ]
    },
    {
      "cell_type": "markdown",
      "metadata": {
        "id": "_GcQvp7CQ0mG"
      },
      "source": [
        "#Hypothesis in Statistics\n",
        "Hypothesis is an assumption about a parameter in population.\n",
        "\n",
        "**Null Hypothesis**\n",
        "It assumes that the observation is not stastically significant.\n",
        "\n",
        "Alternate Hypothesis **bold text**\n",
        "It assumes that the observations are due to some reason.\n",
        "\n",
        "Its alternate to Null Hypothesis.\n",
        "\n",
        "Example:\n",
        "**bold text**\n",
        "For an assessment of a student we would take:\n",
        "\n",
        "\"student is worse than average\" - as a null hypothesis, and:\n",
        "\n",
        "\"student is better than average\" - as an alternate hypothesis.\n",
        "\n"
      ]
    },
    {
      "cell_type": "markdown",
      "metadata": {
        "id": "nsa9ptA6Q_xi"
      },
      "source": [
        "**One tailed test**\n",
        "When our hypothesis is testing for one side of the value only, it is called \"one tailed test\".\n",
        "\n",
        "**Example:**\n",
        "\n",
        "For the null hypothesis:\n",
        "\n",
        "\"the mean is equal to k\", we can have alternate hypothesis:\n",
        "\n",
        "\"the mean is less than k\", or:\n",
        "\n",
        "\"the mean is greater than k\"\n",
        "\n",
        "**Two tailed test**\n",
        "When our hypothesis is testing for both side of the values.\n",
        "\n",
        "**Example:**\n",
        "\n",
        "For the null hypothesis:\n",
        "\n",
        "\"the mean is equal to k\", we can have alternate hypothesis:\n",
        "\n",
        "\"the mean is not equal to k\"\n",
        "\n",
        "In this case the mean is less than, or greater than k, and both sides are to be checked.\n",
        "\n",
        "**Alpha value**\n",
        "Alpha value is the level of significance.\n",
        "\n",
        "**Example:**\n",
        "\n",
        "How close to extremes the data must be for null hypothesis to be rejected.\n",
        "\n",
        "It is usually taken as 0.01, 0.05, or 0.1.\n",
        "\n",
        "**P value**\n",
        "P value tells how close to extreme the data actually is.\n",
        "\n",
        "P value and alpha values are compared to establish the statistical significance.\n",
        "\n",
        "If p value <= alpha we reject the null hypothesis and say that the data is statistically significant. otherwise we accept the null hypothesis.\n",
        "\n",
        "**T-Test**\n",
        "T-tests are used to determine if there is significant deference between means of two variables. and lets us know if they belong to the same distribution.\n",
        "\n",
        "It is a two tailed test.\n",
        "\n",
        "The function ttest_ind() takes two samples of same size and produces a tuple of t-statistic and p-value.\n",
        "\n"
      ]
    },
    {
      "cell_type": "code",
      "metadata": {
        "colab": {
          "base_uri": "https://localhost:8080/"
        },
        "id": "yM_qh5ahQtSw",
        "outputId": "ac292ddf-54b6-4a1e-9fd4-b82a8f4f0b10"
      },
      "source": [
        "import numpy as np\n",
        "from scipy.stats import ttest_ind\n",
        "\n",
        "v1 = np.random.normal(size=100)\n",
        "v2 = np.random.normal(size=100)\n",
        "\n",
        "res = ttest_ind(v1, v2)\n",
        "\n",
        "print(res)\n"
      ],
      "execution_count": null,
      "outputs": [
        {
          "output_type": "stream",
          "text": [
            "Ttest_indResult(statistic=0.5566647998739295, pvalue=0.5783850945111557)\n"
          ],
          "name": "stdout"
        }
      ]
    },
    {
      "cell_type": "markdown",
      "metadata": {
        "id": "m1zzcU2vRmhC"
      },
      "source": [
        "#Statistical Description of Data\n",
        "In order to see a summary of values in an array, we can use the describe() function.\n",
        "\n",
        "It returns the following description:\n",
        "\n",
        "number of observations (nobs)\n",
        "\n",
        "minimum and maximum values = minmax\n",
        "mean\n",
        "\n",
        "variance\n",
        "\n",
        "skewness\n",
        "\n",
        "kurtosis\n"
      ]
    },
    {
      "cell_type": "markdown",
      "metadata": {
        "id": "QpDYpqXIRvZG"
      },
      "source": [
        "#Example\n",
        "Show statistical description of the values in an array:\n",
        "\n"
      ]
    },
    {
      "cell_type": "code",
      "metadata": {
        "colab": {
          "base_uri": "https://localhost:8080/"
        },
        "id": "y12yEd_-RygJ",
        "outputId": "ff6820e2-4b1d-47b4-ea59-4b3732240dc4"
      },
      "source": [
        "import numpy as np\n",
        "from scipy.stats import describe\n",
        "\n",
        "v = np.random.normal(size=100)\n",
        "res = describe(v)\n",
        "\n",
        "print(res)\n"
      ],
      "execution_count": null,
      "outputs": [
        {
          "output_type": "stream",
          "text": [
            "DescribeResult(nobs=100, minmax=(-2.348827173624623, 2.122213435256136), mean=0.18895897716466467, variance=0.9446688393192286, skewness=-0.1616189550248015, kurtosis=-0.2844050162355951)\n"
          ],
          "name": "stdout"
        }
      ]
    },
    {
      "cell_type": "markdown",
      "metadata": {
        "id": "lWUDA6ilR3WW"
      },
      "source": [
        "#Normality Tests (Skewness and Kurtosis)\n",
        "Normality tests are based on the skewness and kurtosis.\n",
        "\n",
        "The normaltest() function returns p value for the null hypothesis:\n",
        "\n",
        "\"x comes from a normal distribution\".\n",
        "\n",
        "**Skewness**:\n",
        "A measure of symmetry in data.\n",
        "\n",
        "For normal distributions it is 0.\n",
        "\n",
        "If it is negative, it means the data is skewed left.\n",
        "\n",
        "If it is positive it means the data is skewed right.\n",
        "\n",
        "**Kurtosis**:\n",
        "A measure of whether the data is heavy or lightly tailed to a normal distribution.\n",
        "\n",
        "Positive kurtosis means heavy tailed.\n",
        "\n",
        "Negative kurtosis means lightly tailed.\n",
        "\n"
      ]
    },
    {
      "cell_type": "code",
      "metadata": {
        "colab": {
          "base_uri": "https://localhost:8080/"
        },
        "id": "Trmk3a86R9TW",
        "outputId": "594a9a85-1560-478c-a931-7ac9bedb25bf"
      },
      "source": [
        "import numpy as np\n",
        "from scipy.stats import skew, kurtosis\n",
        "\n",
        "v = np.random.normal(size=100)\n",
        "\n",
        "print(skew(v))\n",
        "print(kurtosis(v))\n"
      ],
      "execution_count": null,
      "outputs": [
        {
          "output_type": "stream",
          "text": [
            "-0.0728772708941296\n",
            "0.011571041356296163\n"
          ],
          "name": "stdout"
        }
      ]
    },
    {
      "cell_type": "markdown",
      "metadata": {
        "id": "JMvOcxxfSB56"
      },
      "source": [
        "#Example\n",
        "Find if the data comes from a normal distribution:\n",
        "\n"
      ]
    },
    {
      "cell_type": "code",
      "metadata": {
        "id": "URJA447uSEhO",
        "colab": {
          "base_uri": "https://localhost:8080/"
        },
        "outputId": "1f883619-e772-49fe-bc4b-8890943fc581"
      },
      "source": [
        "import numpy as np\n",
        "from scipy.stats import normaltest\n",
        "\n",
        "v = np.random.normal(size=100)\n",
        "\n",
        "print(normaltest(v))\n"
      ],
      "execution_count": null,
      "outputs": [
        {
          "output_type": "stream",
          "text": [
            "NormaltestResult(statistic=3.0849789590398506, pvalue=0.21384806782891935)\n"
          ],
          "name": "stdout"
        }
      ]
    }
  ]
}